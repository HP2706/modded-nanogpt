{
 "cells": [
  {
   "cell_type": "code",
   "execution_count": 6,
   "metadata": {},
   "outputs": [
    {
     "data": {
      "text/plain": [
       "torch.Size([12, 6, 64])"
      ]
     },
     "execution_count": 6,
     "metadata": {},
     "output_type": "execute_result"
    }
   ],
   "source": [
    "import einops\n",
    "import torch\n",
    "\n",
    "h = 12\n",
    "a = torch.randn((1, 6, 768))\n",
    "\n",
    "k = einops.rearrange(a, 'b t (h d) -> h (b t) d', h = h)\n",
    "k.shape\n",
    "\n",
    "\n",
    "\n",
    "\n",
    "\n",
    "\n",
    "\n",
    "\n",
    "\n",
    "\n",
    "\n"
   ]
  },
  {
   "cell_type": "code",
   "execution_count": 4,
   "metadata": {},
   "outputs": [
    {
     "data": {
      "text/plain": [
       "tensor([[ 0.0000, -1.1851, -1.2885, -1.4527, -0.1122, -0.3550,  0.0023]])"
      ]
     },
     "execution_count": 4,
     "metadata": {},
     "output_type": "execute_result"
    }
   ],
   "source": [
    "import torch\n",
    "a = torch.randn((1, 6))\n",
    "\n",
    "torch.nn.functional.pad(a, (1, 0), value=0)\n",
    "\n"
   ]
  },
  {
   "cell_type": "code",
   "execution_count": 3,
   "metadata": {},
   "outputs": [
    {
     "name": "stdout",
     "output_type": "stream",
     "text": [
      "4.0\n"
     ]
    }
   ],
   "source": [
    "import math\n",
    "\n",
    "\n",
    "compression_decompress_size = 16\n",
    "n_compress_decompress_layers = 2\n",
    "\n",
    "compress_per_layer = math.exp(math.log(compression_decompress_size) / n_compress_decompress_layers)\n",
    "\n",
    "print(compress_per_layer)\n",
    "\n",
    "\n",
    "\n",
    "        "
   ]
  },
  {
   "cell_type": "code",
   "execution_count": 7,
   "metadata": {},
   "outputs": [
    {
     "name": "stdout",
     "output_type": "stream",
     "text": [
      "torch.Size([1, 4, 10])\n"
     ]
    }
   ],
   "source": [
    "from torch.nn.attention.flex_attention import flex_attention\n",
    "import torch\n",
    "\n",
    "q = torch.randn(1,4, 10, 10)\n",
    "k = torch.randn(1,4, 10, 10)\n",
    "v = torch.randn(1,4, 10, 10)\n",
    "\n",
    "y, attn_logits = flex_attention(q, k, v, return_lse=True)\n",
    "\n",
    "print(attn_logits.shape)\n",
    "\n",
    "\n",
    "\n"
   ]
  },
  {
   "cell_type": "code",
   "execution_count": null,
   "metadata": {},
   "outputs": [],
   "source": [
    "\n",
    "model = HNet(\n",
    "    d_model = 64,\n",
    "    num_heads = 1,\n",
    "    num_compression_layers = 3,\n",
    "    compression_ratio = 0.5,\n",
    "    num_main_layers = 2,\n",
    ")\n",
    "import torch\n",
    "model.forward(\n",
    "    input_seq = torch.randint(0, 8, (1, 10)),\n",
    "    causal_mask = torch.ones(1, 10, dtype=torch.bool),\n",
    "    sliding_window_num_blocks = torch.tensor([10]),\n",
    ")"
   ]
  },
  {
   "cell_type": "code",
   "execution_count": null,
   "metadata": {},
   "outputs": [
    {
     "data": {
      "text/plain": [
       "0.7071067811865476"
      ]
     },
     "execution_count": 8,
     "metadata": {},
     "output_type": "execute_result"
    }
   ],
   "source": []
  }
 ],
 "metadata": {
  "kernelspec": {
   "display_name": "ml",
   "language": "python",
   "name": "python3"
  },
  "language_info": {
   "codemirror_mode": {
    "name": "ipython",
    "version": 3
   },
   "file_extension": ".py",
   "mimetype": "text/x-python",
   "name": "python",
   "nbconvert_exporter": "python",
   "pygments_lexer": "ipython3",
   "version": "3.12.9"
  }
 },
 "nbformat": 4,
 "nbformat_minor": 2
}
